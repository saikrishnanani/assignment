{
 "cells": [
  {
   "cell_type": "code",
   "execution_count": 3,
   "metadata": {},
   "outputs": [
    {
     "name": "stdout",
     "output_type": "stream",
     "text": [
      "enter a number2019\n",
      "a is not a leap year\n"
     ]
    }
   ],
   "source": [
    "a=int(input(\"enter a number\"))\n",
    "\n",
    "if (a % 4) == 0:\n",
    "   if (a % 100) == 0:\n",
    "       if (a % 400) == 0:\n",
    "           print(\"a is a leap year\")\n",
    "       else:\n",
    "           print(\"a is not a leap year\")\n",
    "   else:\n",
    "       print(\" a is a leap year\")\n",
    "else:\n",
    "   print(\"a is not a leap year\")"
   ]
  },
  {
   "cell_type": "code",
   "execution_count": 7,
   "metadata": {},
   "outputs": [
    {
     "name": "stdout",
     "output_type": "stream",
     "text": [
      "Enter the week number:7\n",
      "Saturday\n"
     ]
    }
   ],
   "source": [
    "a = input(\"Enter the week number:\")\n",
    "a = int(a)\n",
    "\n",
    "\n",
    "if (a == 1):\n",
    "  weekDay = \"Sunday\"\n",
    "elif (a == 2):\n",
    "  weekDay = \"Monday\"\n",
    "elif (a == 3):\n",
    "  weekDay = \"Tuesday\"\n",
    "elif (a == 4):\n",
    "  weekDay = \"Wednesday\"\n",
    "elif (a == 5):\n",
    "  weekDay = \"Thursday\"\n",
    "elif (a == 6):\n",
    "  weekDay = \"Friday\"\n",
    "elif (a == 7):\n",
    "  weekDay = \"Saturday\"\n",
    "else:\n",
    "  weekDay = \"Please enter the week number between 1 and 7\"\n",
    "  \n",
    "print(weekDay)\n",
    "  "
   ]
  },
  {
   "cell_type": "code",
   "execution_count": 8,
   "metadata": {},
   "outputs": [
    {
     "name": "stdout",
     "output_type": "stream",
     "text": [
      "Enter first number: 3\n",
      "Enter second number: 6\n",
      "Enter third number: 8\n",
      "The largest number is 8\n"
     ]
    }
   ],
   "source": [
    "a = int(input(\"Enter first number: \"))\n",
    "b = int(input(\"Enter second number: \"))\n",
    "c = int(input(\"Enter third number: \"))\n",
    " \n",
    "if (a > b) and (a > c):\n",
    "   largest = a\n",
    "elif (b > a) and (b > c):\n",
    "   largest = b\n",
    "else:\n",
    "   largest = c\n",
    " \n",
    "print(\"The largest number is\",largest)"
   ]
  },
  {
   "cell_type": "code",
   "execution_count": 1,
   "metadata": {},
   "outputs": [
    {
     "name": "stdout",
     "output_type": "stream",
     "text": [
      "enter a number16\n",
      "The sum is 0\n"
     ]
    }
   ],
   "source": [
    "a = int(input(\"enter a number\"))\n",
    "\n",
    "if a < 0:\n",
    "   print(\"Enter a positive number\")\n",
    "else:\n",
    "   sum = 0\n",
    "   while(a > 0):\n",
    "       sum += a\n",
    "       a -= 1\n",
    "   print(\"The sum is\",a)"
   ]
  },
  {
   "cell_type": "code",
   "execution_count": 3,
   "metadata": {},
   "outputs": [
    {
     "name": "stdout",
     "output_type": "stream",
     "text": [
      "enter the celsius32\n",
      "32.0 degree Celsius is equal to 89.6 degree Fahrenheit\n"
     ]
    }
   ],
   "source": [
    "celsius =int(input(\"enter the celsius\")) \n",
    "fahrenheit = (celsius * 1.8) + 32\n",
    "print('%0.1f degree Celsius is equal to %0.1f degree Fahrenheit' %(celsius,fahrenheit))"
   ]
  },
  {
   "cell_type": "code",
   "execution_count": 5,
   "metadata": {},
   "outputs": [
    {
     "name": "stdout",
     "output_type": "stream",
     "text": [
      "Enter an integer:10\n",
      "The divisors of the number are:\n",
      "1\n",
      "2\n",
      "5\n",
      "10\n"
     ]
    }
   ],
   "source": [
    "n=int(input(\"Enter an integer:\"))\n",
    "print(\"The divisors of the number are:\")\n",
    "for i in range(1,n+1):\n",
    "    if(n%i==0):\n",
    "        print(i)\n",
    "    "
   ]
  },
  {
   "cell_type": "code",
   "execution_count": null,
   "metadata": {},
   "outputs": [],
   "source": []
  }
 ],
 "metadata": {
  "kernelspec": {
   "display_name": "Python 3",
   "language": "python",
   "name": "python3"
  },
  "language_info": {
   "codemirror_mode": {
    "name": "ipython",
    "version": 3
   },
   "file_extension": ".py",
   "mimetype": "text/x-python",
   "name": "python",
   "nbconvert_exporter": "python",
   "pygments_lexer": "ipython3",
   "version": "3.7.3"
  }
 },
 "nbformat": 4,
 "nbformat_minor": 2
}
